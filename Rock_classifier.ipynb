{
  "nbformat": 4,
  "nbformat_minor": 0,
  "metadata": {
    "colab": {
      "name": "Rock_classifier.ipynb",
      "provenance": [],
      "collapsed_sections": [],
      "authorship_tag": "ABX9TyN7Xtz/wjAgDvJLGVh+lyqJ",
      "include_colab_link": true
    },
    "kernelspec": {
      "name": "python3",
      "display_name": "Python 3"
    },
    "language_info": {
      "name": "python"
    }
  },
  "cells": [
    {
      "cell_type": "markdown",
      "metadata": {
        "id": "view-in-github",
        "colab_type": "text"
      },
      "source": [
        "<a href=\"https://colab.research.google.com/github/ksbs22/English-Project/blob/main/Rock_classifier.ipynb\" target=\"_parent\"><img src=\"https://colab.research.google.com/assets/colab-badge.svg\" alt=\"Open In Colab\"/></a>"
      ]
    },
    {
      "cell_type": "code",
      "source": [
        "# Imports\n",
        "\n",
        "from fastai.vision.all import *\n",
        "from fastai.vision.widgets import *\n",
        "import urllib.request"
      ],
      "metadata": {
        "id": "RkRHMK6k-klj"
      },
      "execution_count": null,
      "outputs": []
    },
    {
      "cell_type": "code",
      "execution_count": null,
      "metadata": {
        "id": "sklnTEMj-e6L"
      },
      "outputs": [],
      "source": [
        "# Learner\n",
        "\n",
        "path = Path()\n",
        "learn_inf = load_learner(path/'rock_export.pkl', cpu=True)\n",
        "# learner = load_learner(Path(\".\"), \"export.pkl\")\n",
        "\n",
        "btn_upload = widgets.FileUpload()\n",
        "out_pl = widgets.Output()\n",
        "lbl_pred = widgets.Label()\n",
        "# Create interface\n",
        "\n",
        "def on_data_change(change):\n",
        "    lbl_pred.value = ''\n",
        "    \n",
        "    # Load Image\n",
        "    img = PILImage.create(btn_upload.data[-1])\n",
        "    out_pl.clear_output()\n",
        "    with out_pl:\n",
        "        display(img.to_thumb(224,244))\n",
        "    \n",
        "    # Predict image\n",
        "    pred, pred_idx, probs = learn_inf.predict(img)\n",
        "    \n",
        "    lbl_pred.value = f'Prediction: {pred}; Probability: {probs[pred_idx]:.04f}'\n",
        "btn_upload.observe(on_data_change, names=['data'])\n",
        "\n",
        "# Display Predictions\n",
        "display(VBox([widgets.Label('Select your rock!'), btn_upload, out_pl, lbl_pred]))"
      ]
    }
  ]
}